{
  "nbformat": 4,
  "nbformat_minor": 0,
  "metadata": {
    "colab": {
      "provenance": []
    },
    "kernelspec": {
      "name": "python3",
      "display_name": "Python 3"
    },
    "language_info": {
      "name": "python"
    }
  },
  "cells": [
    {
      "cell_type": "code",
      "execution_count": null,
      "metadata": {
        "id": "XDNdFEkNAQFl"
      },
      "outputs": [],
      "source": [
        "!cp ROUGE-1.5.5.tar.gz ~\n",
        "!tar -xvf  'ROUGE-1.5.5.tar.gz' -C '/content/drive/MyDrive/NATS/tools/rouge_package/'\n",
        "!rm ROUGE-1.5.5.tar.gz\n",
        "!sudo apt install libxml-parser-perl\n",
        "!sudo pip3 install pyrouge\n",
        "!cd ~\n",
        "!mkdir .pyrouge\n",
        "!echo [pyrouge settings] >> .pyrouge/settings.ini\n",
        "!echo home_dir = $PWD/ROUGE-1.5.5 >> .pyrouge/settings.ini\n",
        "%cd /content/drive/MyDrive/NATS/tools/rouge_package/ROUGE-1.5.5/data\n",
        "\n",
        "!rm WordNet-2.0.exc.db\n",
        "!./WordNet-2.0-Exceptions/buildExeptionDB.pl ./WordNet-2.0-Exceptions ./smart_common_words.txt ./WordNet-2.0.exc.db"
      ]
    }
  ]
}